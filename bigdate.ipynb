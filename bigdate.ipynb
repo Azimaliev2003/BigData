{
 "cells": [
  {
   "cell_type": "code",
   "execution_count": 12,
   "metadata": {},
   "outputs": [
    {
     "name": "stdout",
     "output_type": "stream",
     "text": [
      "hello\n",
      "3\n"
     ]
    }
   ],
   "source": [
    "i=3         #Создание переменных    \n",
    "print(i)    #Вывод данных"
   ]
  },
  {
   "cell_type": "code",
   "execution_count": 13,
   "metadata": {},
   "outputs": [
    {
     "name": "stdout",
     "output_type": "stream",
     "text": [
      "<class 'int'>\n"
     ]
    }
   ],
   "source": [
    "#Определение типа переменной\n",
    "a=8\n",
    "t=type(a)\n",
    "print (t)"
   ]
  },
  {
   "cell_type": "code",
   "execution_count": 15,
   "metadata": {},
   "outputs": [
    {
     "name": "stdout",
     "output_type": "stream",
     "text": [
      "This is a STRING!\n",
      "True\n"
     ]
    }
   ],
   "source": [
    "d = 5.335   #float\n",
    "type ( d )\n",
    "\n",
    "s = \"This is a STRING!\"\n",
    "print (s)\n",
    "\n",
    "b = True   #boolean\n",
    "print (b)"
   ]
  },
  {
   "cell_type": "code",
   "execution_count": 18,
   "metadata": {},
   "outputs": [
    {
     "name": "stdout",
     "output_type": "stream",
     "text": [
      "[3, 1, 2]\n",
      "{'one': 1, 'two': 2, 'three': 3}\n",
      "1\n"
     ]
    }
   ],
   "source": [
    "l = [3, 1, 2]   #list\n",
    "print (l)\n",
    "\n",
    "r = {'one' : 1, 'two' : 2, 'three' : 3} #dictionary\n",
    "print (r)\n",
    "\n",
    "print(r['one'])\n",
    "\n",
    "n = None #Python's null type"
   ]
  },
  {
   "cell_type": "code",
   "execution_count": 2,
   "metadata": {},
   "outputs": [
    {
     "name": "stdout",
     "output_type": "stream",
     "text": [
      "Возведение числа 10 в квадрат 100.0\n",
      "Our fist value is False. Our second value is 6\n"
     ]
    }
   ],
   "source": [
    "import math\n",
    "\n",
    "p = math.pow (10, 2)\n",
    "\n",
    "print(\"Возведение числа 10 в квадрат\", p)\n",
    "\n",
    "i=6\n",
    "n=False\n",
    "print(\"Our fist value is %s. Our second value is %s\" %(n,i))\n",
    "\n",
    "#Применение команды print() с дополнительными аргументами для вывода текста."
   ]
  },
  {
   "cell_type": "code",
   "execution_count": 4,
   "metadata": {},
   "outputs": [
    {
     "name": "stdout",
     "output_type": "stream",
     "text": [
      "both i and f are less than or equal to 4\n"
     ]
    }
   ],
   "source": [
    "#Основные языковые конструкции (операторы Python)\n",
    "#Использование логических операторов if … elif … else представлено на рис. 18\n",
    "i=3\n",
    "f=2.1\n",
    "if i == 1 and f > 4:\n",
    "    print(\"The value of i is 1 and f is greater than 4.\")\n",
    "elif i > 4 or f > 4:\n",
    "    print(\"i or f are both greater than 4.\")\n",
    "else:\n",
    "    print(\"both i and f are less than or equal to 4\")"
   ]
  },
  {
   "cell_type": "code",
   "execution_count": null,
   "metadata": {},
   "outputs": [],
   "source": [
    "#Оператор for … in\n",
    "for n in range(50):(\n",
    "    print('Это числа от 0 до 49' ,n)\n",
    ")"
   ]
  },
  {
   "cell_type": "code",
   "execution_count": null,
   "metadata": {},
   "outputs": [],
   "source": [
    "#Вывод натуральных чисел с задержкой в 1 сек\n",
    "import time\n",
    "for a in range(100):\n",
    "    time.sleep(1)\n",
    "    print(a)"
   ]
  },
  {
   "cell_type": "code",
   "execution_count": null,
   "metadata": {},
   "outputs": [],
   "source": [
    "#Применение цикла с предусловием while представлено на рис\n",
    "counter = 2\n",
    "\n",
    "while counter < 15:\n",
    "    print(counter)\n",
    "    counter+=1"
   ]
  },
  {
   "cell_type": "code",
   "execution_count": 10,
   "metadata": {},
   "outputs": [
    {
     "name": "stdout",
     "output_type": "stream",
     "text": [
      "89\n"
     ]
    }
   ],
   "source": [
    "#представлен код создания функции, возвращающей увеличение значения на 2.\n",
    "def additional(x):\n",
    "    y = (x+2)\n",
    "    return y\n",
    "\n",
    "\n",
    "i=87\n",
    "print(additional(i))\n"
   ]
  },
  {
   "cell_type": "code",
   "execution_count": 16,
   "metadata": {},
   "outputs": [
    {
     "name": "stdout",
     "output_type": "stream",
     "text": [
      "25\n",
      "30\n"
     ]
    }
   ],
   "source": [
    "sq = lambda x: x*x\n",
    "print(sq(5))\n",
    "\n",
    "\n",
    "c = lambda a,b : a*b\n",
    "print(c(5,6))"
   ]
  },
  {
   "cell_type": "code",
   "execution_count": null,
   "metadata": {},
   "outputs": [],
   "source": [
    "! ping google.com"
   ]
  }
 ],
 "metadata": {
  "kernelspec": {
   "display_name": "Python 3",
   "language": "python",
   "name": "python3"
  },
  "language_info": {
   "codemirror_mode": {
    "name": "ipython",
    "version": 3
   },
   "file_extension": ".py",
   "mimetype": "text/x-python",
   "name": "python",
   "nbconvert_exporter": "python",
   "pygments_lexer": "ipython3",
   "version": "3.11.5"
  },
  "orig_nbformat": 4
 },
 "nbformat": 4,
 "nbformat_minor": 2
}
