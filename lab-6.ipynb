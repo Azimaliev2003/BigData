{
 "cells": [
  {
   "cell_type": "code",
   "execution_count": null,
   "id": "initial_id",
   "metadata": {
    "collapsed": true
   },
   "outputs": [],
   "source": [
    "from sklearn.model_selection import cross_val_score\n",
    "from sklearn.model_selection import GridSearchCV\n",
    "from sklearn.ensemble import RandomForestClassifier\n",
    "from sklearn.datasets import load_digits"
   ]
  },
  {
   "cell_type": "code",
   "execution_count": 1,
   "outputs": [
    {
     "name": "stdout",
     "output_type": "stream",
     "text": [
      "Cross-Validation Accuracy: 0.9376926648096564\n",
      "Best Parameters: {'max_depth': 10, 'n_estimators': 200}\n"
     ]
    }
   ],
   "source": [
    "# Загрузка датасета digits\n",
    "digits = load_digits()\n",
    "X, y = digits.data, digits.target\n",
    "\n",
    "# Создание модели\n",
    "model = RandomForestClassifier()\n",
    "\n",
    "# Перекрестная проверка\n",
    "cross_val_accuracy = cross_val_score(model, X, y, cv=5, scoring='accuracy')\n",
    "print(f'Cross-Validation Accuracy: {cross_val_accuracy.mean()}')\n",
    "\n",
    "# Решетчатый поиск для тюнинга параметров\n",
    "param_grid = {'n_estimators': [50, 100, 200], 'max_depth': [None, 10, 20]}\n",
    "grid_search = GridSearchCV(model, param_grid, cv=5)\n",
    "grid_search.fit(X, y)\n",
    "\n",
    "# Лучшие параметры\n",
    "best_params = grid_search.best_params_\n",
    "print(f'Best Parameters: {best_params}')"
   ],
   "metadata": {
    "collapsed": false,
    "ExecuteTime": {
     "end_time": "2023-12-05T15:17:05.325451400Z",
     "start_time": "2023-12-05T15:16:09.251345800Z"
    }
   },
   "id": "1364f1351d2c6fc0"
  },
  {
   "cell_type": "code",
   "execution_count": 3,
   "outputs": [
    {
     "name": "stdout",
     "output_type": "stream",
     "text": [
      "Model Accuracy: 0.515\n",
      "Predicted city for vacation: London\n"
     ]
    }
   ],
   "source": [
    "import pandas as pd\n",
    "import random\n",
    "\n",
    "# Генерация данных\n",
    "data = {\n",
    "    'salary': [random.randint(30000, 70000) for _ in range(1000)],\n",
    "    'city': [random.choice(['Bishkek', 'London', 'Moscow']) for _ in range(1000)],\n",
    "    'age': [random.randint(30, 65) for _ in range(1000)],\n",
    "    'vacation_prefer': [random.choice(['Shopping', 'Beach holiday']) for _ in range(1000)],\n",
    "    'transport_prefer': [random.choice(['auto', 'plane']) for _ in range(1000)],\n",
    "    'target': [random.choice(['London', 'Moscow']) for _ in range(1000)],\n",
    "}\n",
    "\n",
    "df = pd.DataFrame(data)\n",
    "\n",
    "# Преобразование категориальных данных в числовые\n",
    "df = pd.get_dummies(df, columns=['city', 'vacation_prefer', 'transport_prefer'])\n",
    "\n",
    "# b. Выделение признаков (X) и целевой переменной (y)\n",
    "X = df.drop('target', axis=1)\n",
    "y = df['target']\n",
    "\n",
    "# c. Выделение обучающей и тестовой выборки\n",
    "from sklearn.model_selection import train_test_split\n",
    "X_train, X_test, y_train, y_test = train_test_split(X, y, test_size=0.2, random_state=42)\n",
    "\n",
    "# d. Выбор модели классификатора\n",
    "from sklearn.ensemble import RandomForestClassifier\n",
    "model = RandomForestClassifier()\n",
    "\n",
    "# e. Обучение модели\n",
    "model.fit(X_train, y_train)\n",
    "\n",
    "# f. Проверка оценки модели\n",
    "accuracy = model.score(X_test, y_test)\n",
    "print(f'Model Accuracy: {accuracy}')\n",
    "\n",
    "# g. Предсказание на случайных данных\n",
    "random_data = pd.DataFrame({\n",
    "    'salary': [random.randint(30000, 70000)],\n",
    "    'city': [random.choice(['Bishkek', 'London', 'Moscow'])],\n",
    "    'age': [random.randint(30, 65)],\n",
    "    'vacation_prefer': [random.choice(['Shopping', 'Beach holiday'])],\n",
    "    'transport_prefer': [random.choice(['auto', 'plane'])],\n",
    "})\n",
    "\n",
    "# Создайте все возможные категориальные признаки в random_data\n",
    "all_categories = {\n",
    "    'city': ['Bishkek', 'London', 'Moscow'],\n",
    "    'vacation_prefer': ['Shopping', 'Beach holiday'],\n",
    "    'transport_prefer': ['auto', 'plane']\n",
    "}\n",
    "\n",
    "for feature, categories in all_categories.items():\n",
    "    random_data[feature] = pd.Categorical([random.choice(categories)], categories=categories)\n",
    "\n",
    "# Преобразование категориальных данных в числовые\n",
    "random_data_encoded = pd.get_dummies(random_data, columns=['city', 'vacation_prefer', 'transport_prefer'])\n",
    "\n",
    "# Переопределите порядок столбцов в тестовом датасете согласно обучающему\n",
    "random_data_encoded = random_data_encoded[X_train.columns]\n",
    "\n",
    "# h. Предсказание на случайных данных\n",
    "prediction = model.predict(random_data_encoded)\n",
    "print(f'Predicted city for vacation: {prediction[0]}')\n"
   ],
   "metadata": {
    "collapsed": false,
    "ExecuteTime": {
     "end_time": "2023-12-05T15:58:21.501416400Z",
     "start_time": "2023-12-05T15:58:19.156722400Z"
    }
   },
   "id": "ed12feb914cf22a2"
  },
  {
   "cell_type": "code",
   "execution_count": null,
   "outputs": [],
   "source": [],
   "metadata": {
    "collapsed": false
   },
   "id": "cfe2d5c836013d0b"
  }
 ],
 "metadata": {
  "kernelspec": {
   "display_name": "Python 3",
   "language": "python",
   "name": "python3"
  },
  "language_info": {
   "codemirror_mode": {
    "name": "ipython",
    "version": 2
   },
   "file_extension": ".py",
   "mimetype": "text/x-python",
   "name": "python",
   "nbconvert_exporter": "python",
   "pygments_lexer": "ipython2",
   "version": "2.7.6"
  }
 },
 "nbformat": 4,
 "nbformat_minor": 5
}
